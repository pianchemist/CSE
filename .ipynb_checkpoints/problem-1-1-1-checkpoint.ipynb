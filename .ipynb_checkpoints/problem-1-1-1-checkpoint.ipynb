{
 "cells": [
  {
   "cell_type": "code",
   "execution_count": 1,
   "metadata": {},
   "outputs": [],
   "source": [
    "import numpy as np\n",
    "from scipy.linalg import toeplitz"
   ]
  },
  {
   "cell_type": "markdown",
   "metadata": {},
   "source": [
    "## prepare to T_5 from  K_5"
   ]
  },
  {
   "cell_type": "code",
   "execution_count": 2,
   "metadata": {},
   "outputs": [
    {
     "name": "stdout",
     "output_type": "stream",
     "text": [
      "[[ 2 -1  0  0  0]\n",
      " [-1  2 -1  0  0]\n",
      " [ 0 -1  2 -1  0]\n",
      " [ 0  0 -1  2 -1]\n",
      " [ 0  0  0 -1  2]]\n"
     ]
    }
   ],
   "source": [
    "K_5 = toeplitz([2,-1,0,0,0])\n",
    "print(K_5)"
   ]
  },
  {
   "cell_type": "code",
   "execution_count": 3,
   "metadata": {},
   "outputs": [],
   "source": [
    "T_5 = K_5.copy()\n",
    "T_5[0,0] = 1"
   ]
  },
  {
   "cell_type": "markdown",
   "metadata": {},
   "source": [
    "## T_5 の逆行列を求める"
   ]
  },
  {
   "cell_type": "code",
   "execution_count": 6,
   "metadata": {},
   "outputs": [
    {
     "name": "stdout",
     "output_type": "stream",
     "text": [
      "[[5 4 3 2 1]\n",
      " [4 4 3 2 1]\n",
      " [3 3 3 2 1]\n",
      " [2 2 2 2 1]\n",
      " [1 1 1 1 1]]\n"
     ]
    }
   ],
   "source": [
    "T_5_inv = np.linalg.inv(T_5)\n",
    "print(T_5_inv.astype(int))"
   ]
  },
  {
   "cell_type": "markdown",
   "metadata": {},
   "source": [
    "## 確認"
   ]
  },
  {
   "cell_type": "code",
   "execution_count": 12,
   "metadata": {},
   "outputs": [
    {
     "name": "stdout",
     "output_type": "stream",
     "text": [
      "[[1. 0. 0. 0. 0.]\n",
      " [0. 1. 0. 0. 0.]\n",
      " [0. 0. 1. 0. 0.]\n",
      " [0. 0. 0. 1. 0.]\n",
      " [0. 0. 0. 0. 1.]]\n",
      "[[1. 0. 0. 0. 0.]\n",
      " [0. 1. 0. 0. 0.]\n",
      " [0. 0. 1. 0. 0.]\n",
      " [0. 0. 0. 1. 0.]\n",
      " [0. 0. 0. 0. 1.]]\n"
     ]
    }
   ],
   "source": [
    "print(np.dot(T_5, T_5_inv)) # ちゃんと逆行列になっている！\n",
    "print(np.dot(T_5_inv, T_5)) # ちゃんと逆行列になっている！"
   ]
  },
  {
   "cell_type": "markdown",
   "metadata": {},
   "source": [
    "## T_5を用いてT_5_invの対角以下の要素を与える式を見つける"
   ]
  },
  {
   "cell_type": "code",
   "execution_count": 16,
   "metadata": {},
   "outputs": [
    {
     "name": "stdout",
     "output_type": "stream",
     "text": [
      "[[ 5  0  0  0  0]\n",
      " [-5  4  0  0  0]\n",
      " [ 0 -4  3  0  0]\n",
      " [ 0  0 -3  2  0]\n",
      " [ 0  0  0 -2  1]]\n"
     ]
    }
   ],
   "source": [
    "# 求めたい式をXとする\n",
    "X = np.dot(T_5, np.array([[5, 4, 3, 2, 1],\n",
    "                          [0, 4, 3, 2, 1],\n",
    "                          [0, 0, 3, 2, 1],\n",
    "                          [0, 0, 0, 2, 1],\n",
    "                          [0, 0, 0, 0, 1]]))\n",
    "print(X)"
   ]
  },
  {
   "cell_type": "markdown",
   "metadata": {},
   "source": [
    "## T5を用いてT_5_invの対角以下の要素を与える式を見つける"
   ]
  },
  {
   "cell_type": "code",
   "execution_count": 19,
   "metadata": {},
   "outputs": [
    {
     "name": "stdout",
     "output_type": "stream",
     "text": [
      "[[ 1 -4  0  0  0]\n",
      " [ 0  5 -3  0  0]\n",
      " [ 0  0  4 -2  0]\n",
      " [ 0  0  0  3 -1]\n",
      " [ 0  0  0  0  2]]\n"
     ]
    }
   ],
   "source": [
    "# 求めたい式をYとする\n",
    "Y = np.dot(T_5, np.array([[5, 0, 0, 0, 0],\n",
    "                          [4, 4, 0, 0, 0],\n",
    "                          [3, 3, 3, 0, 0],\n",
    "                          [2, 2, 2, 2, 0],\n",
    "                          [1, 1, 1, 1, 1]]))\n",
    "print(Y)"
   ]
  }
 ],
 "metadata": {
  "kernelspec": {
   "display_name": "Python 3",
   "language": "python",
   "name": "python3"
  },
  "language_info": {
   "codemirror_mode": {
    "name": "ipython",
    "version": 3
   },
   "file_extension": ".py",
   "mimetype": "text/x-python",
   "name": "python",
   "nbconvert_exporter": "python",
   "pygments_lexer": "ipython3",
   "version": "3.7.6"
  }
 },
 "nbformat": 4,
 "nbformat_minor": 4
}
